{
 "cells": [
  {
   "cell_type": "code",
   "execution_count": 1,
   "id": "c1cd5c0a-1e3e-4bfe-ad1a-58f944897d2f",
   "metadata": {},
   "outputs": [],
   "source": [
    "import numpy as np"
   ]
  },
  {
   "cell_type": "code",
   "execution_count": 2,
   "id": "820da36e-0177-4219-9ffb-7677cbc7d286",
   "metadata": {},
   "outputs": [],
   "source": [
    "taxi=np.genfromtxt('nyc_taxis.csv',delimiter=',',skip_header=True)"
   ]
  },
  {
   "cell_type": "code",
   "execution_count": 5,
   "id": "3dc438dc-ce15-458b-b845-ce85faf0c895",
   "metadata": {},
   "outputs": [],
   "source": [
    "import pandas as pd\n",
    "df=pd.read_csv(r'C:\\Users\\DELL\\Anaconda\\nyc_taxis.csv')"
   ]
  },
  {
   "cell_type": "code",
   "execution_count": 6,
   "id": "f418ed88-0479-4a02-8185-c91ebd49730a",
   "metadata": {},
   "outputs": [
    {
     "data": {
      "text/html": [
       "<div>\n",
       "<style scoped>\n",
       "    .dataframe tbody tr th:only-of-type {\n",
       "        vertical-align: middle;\n",
       "    }\n",
       "\n",
       "    .dataframe tbody tr th {\n",
       "        vertical-align: top;\n",
       "    }\n",
       "\n",
       "    .dataframe thead th {\n",
       "        text-align: right;\n",
       "    }\n",
       "</style>\n",
       "<table border=\"1\" class=\"dataframe\">\n",
       "  <thead>\n",
       "    <tr style=\"text-align: right;\">\n",
       "      <th></th>\n",
       "      <th>pickup_year</th>\n",
       "      <th>pickup_month</th>\n",
       "      <th>pickup_day</th>\n",
       "      <th>pickup_dayofweek</th>\n",
       "      <th>pickup_time</th>\n",
       "      <th>pickup_location_code</th>\n",
       "      <th>dropoff_location_code</th>\n",
       "      <th>trip_distance</th>\n",
       "      <th>trip_length</th>\n",
       "      <th>fare_amount</th>\n",
       "      <th>fees_amount</th>\n",
       "      <th>tolls_amount</th>\n",
       "      <th>tip_amount</th>\n",
       "      <th>total_amount</th>\n",
       "      <th>payment_type</th>\n",
       "    </tr>\n",
       "  </thead>\n",
       "  <tbody>\n",
       "    <tr>\n",
       "      <th>0</th>\n",
       "      <td>2016</td>\n",
       "      <td>1</td>\n",
       "      <td>1</td>\n",
       "      <td>5</td>\n",
       "      <td>0</td>\n",
       "      <td>2</td>\n",
       "      <td>4</td>\n",
       "      <td>21.00</td>\n",
       "      <td>2037</td>\n",
       "      <td>52.0</td>\n",
       "      <td>0.8</td>\n",
       "      <td>5.54</td>\n",
       "      <td>11.65</td>\n",
       "      <td>69.99</td>\n",
       "      <td>1</td>\n",
       "    </tr>\n",
       "    <tr>\n",
       "      <th>1</th>\n",
       "      <td>2016</td>\n",
       "      <td>1</td>\n",
       "      <td>1</td>\n",
       "      <td>5</td>\n",
       "      <td>0</td>\n",
       "      <td>2</td>\n",
       "      <td>1</td>\n",
       "      <td>16.29</td>\n",
       "      <td>1520</td>\n",
       "      <td>45.0</td>\n",
       "      <td>1.3</td>\n",
       "      <td>0.00</td>\n",
       "      <td>8.00</td>\n",
       "      <td>54.30</td>\n",
       "      <td>1</td>\n",
       "    </tr>\n",
       "    <tr>\n",
       "      <th>2</th>\n",
       "      <td>2016</td>\n",
       "      <td>1</td>\n",
       "      <td>1</td>\n",
       "      <td>5</td>\n",
       "      <td>0</td>\n",
       "      <td>2</td>\n",
       "      <td>6</td>\n",
       "      <td>12.70</td>\n",
       "      <td>1462</td>\n",
       "      <td>36.5</td>\n",
       "      <td>1.3</td>\n",
       "      <td>0.00</td>\n",
       "      <td>0.00</td>\n",
       "      <td>37.80</td>\n",
       "      <td>2</td>\n",
       "    </tr>\n",
       "    <tr>\n",
       "      <th>3</th>\n",
       "      <td>2016</td>\n",
       "      <td>1</td>\n",
       "      <td>1</td>\n",
       "      <td>5</td>\n",
       "      <td>0</td>\n",
       "      <td>2</td>\n",
       "      <td>6</td>\n",
       "      <td>8.70</td>\n",
       "      <td>1210</td>\n",
       "      <td>26.0</td>\n",
       "      <td>1.3</td>\n",
       "      <td>0.00</td>\n",
       "      <td>5.46</td>\n",
       "      <td>32.76</td>\n",
       "      <td>1</td>\n",
       "    </tr>\n",
       "    <tr>\n",
       "      <th>4</th>\n",
       "      <td>2016</td>\n",
       "      <td>1</td>\n",
       "      <td>1</td>\n",
       "      <td>5</td>\n",
       "      <td>0</td>\n",
       "      <td>2</td>\n",
       "      <td>6</td>\n",
       "      <td>5.56</td>\n",
       "      <td>759</td>\n",
       "      <td>17.5</td>\n",
       "      <td>1.3</td>\n",
       "      <td>0.00</td>\n",
       "      <td>0.00</td>\n",
       "      <td>18.80</td>\n",
       "      <td>2</td>\n",
       "    </tr>\n",
       "  </tbody>\n",
       "</table>\n",
       "</div>"
      ],
      "text/plain": [
       "   pickup_year  pickup_month  pickup_day  pickup_dayofweek  pickup_time  \\\n",
       "0         2016             1           1                 5            0   \n",
       "1         2016             1           1                 5            0   \n",
       "2         2016             1           1                 5            0   \n",
       "3         2016             1           1                 5            0   \n",
       "4         2016             1           1                 5            0   \n",
       "\n",
       "   pickup_location_code  dropoff_location_code  trip_distance  trip_length  \\\n",
       "0                     2                      4          21.00         2037   \n",
       "1                     2                      1          16.29         1520   \n",
       "2                     2                      6          12.70         1462   \n",
       "3                     2                      6           8.70         1210   \n",
       "4                     2                      6           5.56          759   \n",
       "\n",
       "   fare_amount  fees_amount  tolls_amount  tip_amount  total_amount  \\\n",
       "0         52.0          0.8          5.54       11.65         69.99   \n",
       "1         45.0          1.3          0.00        8.00         54.30   \n",
       "2         36.5          1.3          0.00        0.00         37.80   \n",
       "3         26.0          1.3          0.00        5.46         32.76   \n",
       "4         17.5          1.3          0.00        0.00         18.80   \n",
       "\n",
       "   payment_type  \n",
       "0             1  \n",
       "1             1  \n",
       "2             2  \n",
       "3             1  \n",
       "4             2  "
      ]
     },
     "execution_count": 6,
     "metadata": {},
     "output_type": "execute_result"
    }
   ],
   "source": [
    "df.head()"
   ]
  },
  {
   "cell_type": "code",
   "execution_count": 7,
   "id": "4401d06b-0115-4b91-a26c-0160d1b0b34b",
   "metadata": {},
   "outputs": [
    {
     "name": "stdout",
     "output_type": "stream",
     "text": [
      "<class 'pandas.core.frame.DataFrame'>\n",
      "RangeIndex: 89560 entries, 0 to 89559\n",
      "Data columns (total 15 columns):\n",
      " #   Column                 Non-Null Count  Dtype  \n",
      "---  ------                 --------------  -----  \n",
      " 0   pickup_year            89560 non-null  int64  \n",
      " 1   pickup_month           89560 non-null  int64  \n",
      " 2   pickup_day             89560 non-null  int64  \n",
      " 3   pickup_dayofweek       89560 non-null  int64  \n",
      " 4   pickup_time            89560 non-null  int64  \n",
      " 5   pickup_location_code   89560 non-null  int64  \n",
      " 6   dropoff_location_code  89560 non-null  int64  \n",
      " 7   trip_distance          89560 non-null  float64\n",
      " 8   trip_length            89560 non-null  int64  \n",
      " 9   fare_amount            89560 non-null  float64\n",
      " 10  fees_amount            89560 non-null  float64\n",
      " 11  tolls_amount           89560 non-null  float64\n",
      " 12  tip_amount             89560 non-null  float64\n",
      " 13  total_amount           89560 non-null  float64\n",
      " 14  payment_type           89560 non-null  int64  \n",
      "dtypes: float64(6), int64(9)\n",
      "memory usage: 10.2 MB\n"
     ]
    }
   ],
   "source": [
    "df.info()"
   ]
  },
  {
   "cell_type": "code",
   "execution_count": 8,
   "id": "fdebbad4-2660-4456-982f-f5fe7e8f0656",
   "metadata": {},
   "outputs": [
    {
     "data": {
      "text/plain": [
       "Index(['pickup_year', 'pickup_month', 'pickup_day', 'pickup_dayofweek',\n",
       "       'pickup_time', 'pickup_location_code', 'dropoff_location_code',\n",
       "       'trip_distance', 'trip_length', 'fare_amount', 'fees_amount',\n",
       "       'tolls_amount', 'tip_amount', 'total_amount', 'payment_type'],\n",
       "      dtype='object')"
      ]
     },
     "execution_count": 8,
     "metadata": {},
     "output_type": "execute_result"
    }
   ],
   "source": [
    "df.columns"
   ]
  },
  {
   "cell_type": "code",
   "execution_count": 9,
   "id": "e2f9c122-245c-4b28-ae19-bd6f48665a38",
   "metadata": {},
   "outputs": [
    {
     "data": {
      "text/plain": [
       "(89560, 15)"
      ]
     },
     "execution_count": 9,
     "metadata": {},
     "output_type": "execute_result"
    }
   ],
   "source": [
    "df.shape"
   ]
  },
  {
   "cell_type": "code",
   "execution_count": 10,
   "id": "52b734d5-7530-4205-881e-48ad5ffcfb33",
   "metadata": {},
   "outputs": [],
   "source": [
    "speed=taxi[:,7]/(taxi[:,8]/3600)"
   ]
  },
  {
   "cell_type": "code",
   "execution_count": 12,
   "id": "321d5e53-19d3-4897-98ef-be0a9c8da4e3",
   "metadata": {},
   "outputs": [
    {
     "name": "stdout",
     "output_type": "stream",
     "text": [
      "32.24258580925573\n"
     ]
    }
   ],
   "source": [
    "mean_speed=speed.mean()\n",
    "print(mean_speed)"
   ]
  },
  {
   "cell_type": "code",
   "execution_count": 14,
   "id": "53610ffa-6fa9-4e06-862d-3981c49beaea",
   "metadata": {},
   "outputs": [
    {
     "name": "stdout",
     "output_type": "stream",
     "text": [
      "13333\n"
     ]
    }
   ],
   "source": [
    "rides_feb=taxi[taxi[:,1] == 2,1]\n",
    "print(rides_feb.shape[0])"
   ]
  },
  {
   "cell_type": "code",
   "execution_count": 15,
   "id": "66097fcd-7caf-48ce-8e7f-ff2243923883",
   "metadata": {},
   "outputs": [
    {
     "name": "stdout",
     "output_type": "stream",
     "text": [
      "16\n"
     ]
    }
   ],
   "source": [
    "print(taxi[taxi[:,-3] > 50,-3].shape[0])"
   ]
  },
  {
   "cell_type": "code",
   "execution_count": 16,
   "id": "ed52c003-9e34-4ea0-9bce-5a43fa78b2fc",
   "metadata": {},
   "outputs": [
    {
     "name": "stdout",
     "output_type": "stream",
     "text": [
      "11832\n"
     ]
    }
   ],
   "source": [
    "print(taxi[taxi[:,6]==2,6].shape[0])"
   ]
  },
  {
   "cell_type": "code",
   "execution_count": null,
   "id": "90d58f98-52f9-4ea1-8519-19733ca44a7d",
   "metadata": {},
   "outputs": [],
   "source": []
  }
 ],
 "metadata": {
  "kernelspec": {
   "display_name": "Python 3 (ipykernel)",
   "language": "python",
   "name": "python3"
  },
  "language_info": {
   "codemirror_mode": {
    "name": "ipython",
    "version": 3
   },
   "file_extension": ".py",
   "mimetype": "text/x-python",
   "name": "python",
   "nbconvert_exporter": "python",
   "pygments_lexer": "ipython3",
   "version": "3.12.4"
  }
 },
 "nbformat": 4,
 "nbformat_minor": 5
}
